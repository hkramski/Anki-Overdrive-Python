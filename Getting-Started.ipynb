{
 "cells": [
  {
   "cell_type": "markdown",
   "metadata": {},
   "source": [
    "overdrive-python\n",
    "================\n",
    "\n",
    "Object interface for controlling Anki Overdrive with Python.\n",
    "\n",
    "This project provide an API to control Anki Overdrive from Python.\n",
    "Commands are mostly reverse engineered from [Anki Drive SDK](https://github.com/anki/drive-sdk) and [node-mqtt-for-anki-overdrive](https://github.com/IBM-Bluemix/node-mqtt-for-anki-overdrive).\n",
    "\n",
    "This code is depended on [bluepy](https://github.com/IanHarvey/bluepy), so it's only work on Linux system.\n",
    "\n",
    "Requirements\n",
    "------------\n",
    "* [Python 3.4+](https://python.org)\n",
    "* [bluepy](https://github.com/IanHarvey/bluepy)\n",
    "* Root permission\n",
    "\n",
    "Credits: [xerodotc](https://github.com/xerodotc/overdrive-python)\n"
   ]
  },
  {
   "cell_type": "markdown",
   "metadata": {},
   "source": [
    "## Find the Overdrive Car MAC address\n",
    "- Turn on the car\n",
    "- Trun on your linux laptop/raspberry Pi bluetooth\n",
    "- Open terminal and run: sudo bluetoothctl\n",
    "- Scan the broadcasting LE bluetooth devices by running: scan on\n",
    "- The device with name something like \"4* Drive\" is the overdrive car and you will find its MAC add next to the name\n",
    "![](find-car-mac.png)\n",
    "- Notedown the MAC address"
   ]
  },
  {
   "cell_type": "markdown",
   "metadata": {},
   "source": [
    "To use this interface, start with initiate Overdrive object with desired Bluetooth MAC address:\n",
    "\n",
    "```python\n",
    "from overdrive import Overdrive\n",
    "car = Overdrive(\"YOUR OVERDRIVE MAC ADDRESS\") # Overdrive(\"00:11:22:33:44:55\") \n",
    "```\n"
   ]
  },
  {
   "cell_type": "code",
   "execution_count": 41,
   "metadata": {},
   "outputs": [],
   "source": [
    "from overdrive import Overdrive"
   ]
  },
  {
   "cell_type": "code",
   "execution_count": 63,
   "metadata": {},
   "outputs": [],
   "source": [
    "car = Overdrive(\"00:11:22:33:44:55\") # ==> replace with your car Mac address"
   ]
  },
  {
   "cell_type": "code",
   "execution_count": 60,
   "metadata": {},
   "outputs": [],
   "source": [
    "# Change speed for Overdrive.\n",
    "#     Parameters:\n",
    "#     speed -- Desired speed. (from 0 - 1000)\n",
    "#     accel -- Desired acceleration. (from 0 - 1000)\n",
    "#     limit -- Respect road piece speed limit. (0 | 1)\n",    
    "\n",
    "car.changeSpeed(200, 1000, 1) # Set car speed with speed = 500, acceleration = 1000, respect road piece speed limit = yes"
   ]
  },
  {
   "cell_type": "code",
   "execution_count": 59,
   "metadata": {},
   "outputs": [],
   "source": [
    "car.changeSpeed(1000, 1000, 1)"
   ]
  },
  {
   "cell_type": "code",
   "execution_count": 48,
   "metadata": {},
   "outputs": [],
   "source": [
    "# Change lane.\n",
    "#     Parameters:\n",
    "#     speed -- Desired speed. (from 0 - 1000)\n",
    "#     accel -- Desired acceleration. (from 0 - 1000)\n",
    "#     offset -- Offset from current lane. (negative for left, positive for right)\n",
    "\n",
    "car.changeLane(1000,1000, -44.5) "
   ]
  },
  {
   "cell_type": "code",
   "execution_count": null,
   "metadata": {},
   "outputs": [],
   "source": [
    "car.changeLaneRight(1000, 1000) # Switch to next right lane with speed = 1000, acceleration = 1000"
   ]
  },
  {
   "cell_type": "code",
   "execution_count": 61,
   "metadata": {},
   "outputs": [],
   "source": [
    "car.disconnect()"
   ]
  }
 ],
 "metadata": {
  "kernelspec": {
   "display_name": "Python 3",
   "language": "python",
   "name": "python3"
  },
  "language_info": {
   "codemirror_mode": {
    "name": "ipython",
    "version": 3
   },
   "file_extension": ".py",
   "mimetype": "text/x-python",
   "name": "python",
   "nbconvert_exporter": "python",
   "pygments_lexer": "ipython3",
   "version": "3.5.5"
  }
 },
 "nbformat": 4,
 "nbformat_minor": 2
}
